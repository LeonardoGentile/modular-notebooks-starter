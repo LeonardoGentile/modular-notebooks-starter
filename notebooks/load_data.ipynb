{
 "cells": [
  {
   "cell_type": "markdown",
   "metadata": {},
   "source": [
    "# Setup Notebook: Import, Cleanup, Normalize & Split Data"
   ]
  },
  {
   "cell_type": "markdown",
   "metadata": {},
   "source": [
    "### Lib imports & Options"
   ]
  },
  {
   "cell_type": "code",
   "execution_count": null,
   "metadata": {
    "ExecuteTime": {
     "end_time": "2021-06-18T23:08:38.562602Z",
     "start_time": "2021-06-18T23:08:38.101235Z"
    },
    "lines_to_next_cell": 2
   },
   "outputs": [],
   "source": [
    "import sys\n",
    "from typing import Dict, OrderedDict, Tuple\n",
    "import warnings\n",
    "from collections import namedtuple\n",
    "\n",
    "# ML libs\n",
    "import numpy as np\n",
    "import pandas as pd\n",
    "\n",
    "# ASSERTS\n",
    "# Python ≥3.5 is required\n",
    "assert sys.version_info >= (3, 5)\n",
    "\n",
    "# Pandas options\n",
    "pd.set_option('display.max_columns', None)\n",
    "pd.set_option('display.max_rows', 25)\n",
    "\n",
    "\n",
    "# Ignore useless warnings (see SciPy issue #5998)\n",
    "warnings.filterwarnings(action=\"ignore\", message=\"^internal gelsd\")"
   ]
  },
  {
   "cell_type": "markdown",
   "metadata": {},
   "source": [
    "### Import my libs"
   ]
  },
  {
   "cell_type": "markdown",
   "metadata": {},
   "source": [
    "- The `loader` module is a py module located in the same dir of the notebooks.\n",
    "It sets up the `PYTHONPATH` in order to import py modules from other dirs within the project root.\n",
    "This way you can import the generated scripts (in `/src`) from within a notebook.\n",
    "- The `reloader` module let you reload the imported py modules (deep reload) that were modified since last time they were imported.\n",
    "By calling `reloader.clear()` it invalidated the cache of imported modules that were modified."
   ]
  },
  {
   "cell_type": "code",
   "execution_count": null,
   "metadata": {
    "ExecuteTime": {
     "end_time": "2021-06-18T23:08:38.569615Z",
     "start_time": "2021-06-18T23:08:38.564786Z"
    },
    "lines_to_next_cell": 2
   },
   "outputs": [],
   "source": [
    "import loader # set PYTHONPATH for imports\n",
    "import reloader # Reload local modified files with"
   ]
  },
  {
   "cell_type": "markdown",
   "metadata": {},
   "source": [
    "Verify that the syspath was indeed modified by the `loader`. \n",
    "You should see a list of path here where python module are looked up, the last one should be your project root."
   ]
  },
  {
   "cell_type": "code",
   "execution_count": null,
   "metadata": {
    "ExecuteTime": {
     "end_time": "2021-06-18T23:08:38.575037Z",
     "start_time": "2021-06-18T23:08:38.572031Z"
    }
   },
   "outputs": [],
   "source": [
    "print(sys.path)"
   ]
  },
  {
   "cell_type": "markdown",
   "metadata": {},
   "source": [
    "Once `import loader` has been executed you can now import other modules located in different directories under your project root."
   ]
  },
  {
   "cell_type": "code",
   "execution_count": null,
   "metadata": {
    "ExecuteTime": {
     "end_time": "2021-06-18T23:11:56.994067Z",
     "start_time": "2021-06-18T23:11:56.991086Z"
    },
    "lines_to_next_cell": 2
   },
   "outputs": [],
   "source": [
    "from lib.pd import load_df, drop_na_cols, print_na_cols"
   ]
  },
  {
   "cell_type": "markdown",
   "metadata": {},
   "source": [
    "If any of your external modules was modified then execute this cell but don't forget to comment it again once reloaded the modules or it will created import troubles when this notebook will be imported as module."
   ]
  },
  {
   "cell_type": "code",
   "execution_count": null,
   "metadata": {
    "ExecuteTime": {
     "end_time": "2021-06-18T23:08:38.588743Z",
     "start_time": "2021-06-18T23:08:38.577347Z"
    },
    "lines_to_next_cell": 2
   },
   "outputs": [],
   "source": [
    "# reloader.clear() # ⚠️ Uncomment and execute this to reload modules that were modified"
   ]
  },
  {
   "cell_type": "markdown",
   "metadata": {},
   "source": [
    "## Load the Data & Arrange the data structure"
   ]
  },
  {
   "cell_type": "markdown",
   "metadata": {},
   "source": [
    "`load_df` with no arguments takes the `data_file_abs_path` OR `data_dir` + `data_file_name` defined in `config.toml`"
   ]
  },
  {
   "cell_type": "code",
   "execution_count": null,
   "metadata": {
    "ExecuteTime": {
     "end_time": "2021-06-18T23:14:04.048257Z",
     "start_time": "2021-06-18T23:14:04.025013Z"
    }
   },
   "outputs": [],
   "source": [
    "df = load_df() \n",
    "df"
   ]
  },
  {
   "cell_type": "code",
   "execution_count": null,
   "metadata": {
    "ExecuteTime": {
     "end_time": "2021-06-18T23:08:38.627646Z",
     "start_time": "2021-06-18T23:08:38.619303Z"
    }
   },
   "outputs": [],
   "source": [
    "print_na_cols(df)"
   ]
  },
  {
   "cell_type": "markdown",
   "metadata": {},
   "source": [
    "Example of imported function from the `lib` dir"
   ]
  },
  {
   "cell_type": "code",
   "execution_count": null,
   "metadata": {
    "ExecuteTime": {
     "end_time": "2021-06-18T23:08:38.642695Z",
     "start_time": "2021-06-18T23:08:38.629311Z"
    }
   },
   "outputs": [],
   "source": [
    "# Drop all columns having more than 60% of missing values\n",
    "df = drop_na_cols(df, perc=0.6)\n",
    "df.head() # Content and Headquarters were dropped"
   ]
  },
  {
   "cell_type": "markdown",
   "metadata": {},
   "source": [
    "we can pass multiple arguments to `load_df`, they will combine with what's defined in `config.toml`"
   ]
  },
  {
   "cell_type": "code",
   "execution_count": null,
   "metadata": {
    "ExecuteTime": {
     "end_time": "2021-06-18T23:08:38.663519Z",
     "start_time": "2021-06-18T23:08:38.646116Z"
    }
   },
   "outputs": [],
   "source": [
    "df_future50 = load_df(data_file_name='Future50.csv')\n",
    "df_future50.head()"
   ]
  },
  {
   "cell_type": "code",
   "execution_count": null,
   "metadata": {
    "ExecuteTime": {
     "end_time": "2021-06-18T23:08:38.672519Z",
     "start_time": "2021-06-18T23:08:38.666411Z"
    }
   },
   "outputs": [],
   "source": [
    "print_na_cols(df_future50)"
   ]
  },
  {
   "cell_type": "markdown",
   "metadata": {},
   "source": [
    "## Other data Manipulation\n",
    "\n",
    "Usually you need to cleanup and re-arrange the data structure "
   ]
  },
  {
   "cell_type": "markdown",
   "metadata": {},
   "source": [
    "## Exported Vars\n",
    "\n",
    "Since we want to import this notebooks as if it was (it will be) a python module from another notebook, it would be nice not to pollute that notebooks with all the variables of this one.   \n",
    "A solution would be to have a function to return only the needed variables, for example:"
   ]
  },
  {
   "cell_type": "code",
   "execution_count": null,
   "metadata": {
    "ExecuteTime": {
     "end_time": "2021-06-18T23:08:38.677648Z",
     "start_time": "2021-06-18T23:08:38.674889Z"
    }
   },
   "outputs": [],
   "source": [
    "def get_export():\n",
    "    return df, df_future50"
   ]
  },
  {
   "cell_type": "markdown",
   "metadata": {},
   "source": [
    "So we can simply import `from src.load_data import get_export` and get the vars by executing `get_export`"
   ]
  },
  {
   "cell_type": "markdown",
   "metadata": {},
   "source": [
    "# Transform this notebook into a python module\n",
    "\n",
    "Automatically whenever you save this notebook then **Jupytext** will export a new script in `src/load_data.py`"
   ]
  },
  {
   "cell_type": "code",
   "execution_count": null,
   "metadata": {},
   "outputs": [],
   "source": []
  }
 ],
 "metadata": {
  "celltoolbar": "Raw Cell Format",
  "hide_input": false,
  "jupytext": {
   "encoding": "# -*- coding: utf-8 -*-",
   "text_representation": {
    "extension": ".py",
    "format_name": "percent",
    "format_version": "1.3",
    "jupytext_version": "1.11.1"
   }
  },
  "kernelspec": {
   "display_name": "Python 3",
   "language": "python",
   "name": "python3"
  },
  "language_info": {
   "codemirror_mode": {
    "name": "ipython",
    "version": 3
   },
   "file_extension": ".py",
   "mimetype": "text/x-python",
   "name": "python",
   "nbconvert_exporter": "python",
   "pygments_lexer": "ipython3",
   "version": "3.7.10"
  },
  "toc": {
   "base_numbering": 1,
   "nav_menu": {},
   "number_sections": true,
   "sideBar": true,
   "skip_h1_title": false,
   "title_cell": "Table of Contents",
   "title_sidebar": "Contents",
   "toc_cell": false,
   "toc_position": {
    "height": "calc(100% - 180px)",
    "left": "10px",
    "top": "150px",
    "width": "357.133px"
   },
   "toc_section_display": true,
   "toc_window_display": true
  },
  "varInspector": {
   "cols": {
    "lenName": 16,
    "lenType": 16,
    "lenVar": 40
   },
   "kernels_config": {
    "python": {
     "delete_cmd_postfix": "",
     "delete_cmd_prefix": "del ",
     "library": "var_list.py",
     "varRefreshCmd": "print(var_dic_list())"
    },
    "r": {
     "delete_cmd_postfix": ") ",
     "delete_cmd_prefix": "rm(",
     "library": "var_list.r",
     "varRefreshCmd": "cat(var_dic_list()) "
    }
   },
   "oldHeight": 270.85,
   "position": {
    "height": "370.85px",
    "left": "989px",
    "right": "20px",
    "top": "194px",
    "width": "726px"
   },
   "types_to_exclude": [
    "module",
    "function",
    "builtin_function_or_method",
    "instance",
    "_Feature"
   ],
   "varInspector_section_display": "block",
   "window_display": false
  }
 },
 "nbformat": 4,
 "nbformat_minor": 4
}
